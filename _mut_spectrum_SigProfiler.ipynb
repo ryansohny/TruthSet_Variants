{
 "cells": [
  {
   "cell_type": "code",
   "execution_count": 1,
   "metadata": {},
   "outputs": [],
   "source": [
    "import os\n",
    "import pandas as pd\n",
    "import numpy as np\n",
    "import matplotlib.pyplot as plt\n",
    "import seaborn as sns\n",
    "import matplotlib.ticker\n",
    "import sigProfilerPlotting as sigPlt\n",
    "from SigProfilerAssignment import Analyzer as Analyze\n",
    "\n",
    "sns.set_theme(font=\"Arial\", font_scale=1.1, style='ticks')\n",
    "plt.rc(\"axes.spines\", top=True, right=True)"
   ]
  },
  {
   "cell_type": "code",
   "execution_count": null,
   "metadata": {},
   "outputs": [],
   "source": [
    "\"\"\"\n",
    "from SigProfilerMatrixGenerator import install as genInstall\n",
    "genInstall.install('GRCh38')\n",
    "\"\"\""
   ]
  },
  {
   "cell_type": "markdown",
   "metadata": {},
   "source": [
    "# 1. Single Base Substitution"
   ]
  },
  {
   "cell_type": "markdown",
   "metadata": {},
   "source": [
    "First execute _01.sbs96_extraction_mutyper.sh to get .SBS96 files"
   ]
  },
  {
   "cell_type": "code",
   "execution_count": 2,
   "metadata": {},
   "outputs": [],
   "source": [
    "def reverse_complement(string):\n",
    "    try:\n",
    "        complement_dict = {'A':'T', 'T':'A', 'G':'C', 'C':'G'}\n",
    "        complement_string = ''.join([complement_dict[s] for s in string])\n",
    "    except KeyError:\n",
    "        raise ValueError(\"Invalid character other than A,T,G and C\")\n",
    "    return complement_string[::-1]\n",
    "\n",
    "def trinuc_context_change(string):\n",
    "    # ex. AAC>ACC => GTT>GGT\n",
    "    if len(string) != 7 or string[3] != '>':\n",
    "        raise ValueError(\"Input string must be in the format 'NNN>NNN'\")\n",
    "    \n",
    "    if string[1] not in ['C', 'T']:\n",
    "        string_pair = string.split('>')\n",
    "        new_string = reverse_complement(string_pair[0]) + '>' + reverse_complement(string_pair[1])\n",
    "    else:\n",
    "        new_string = string\n",
    "    return new_string"
   ]
  },
  {
   "cell_type": "code",
   "execution_count": 3,
   "metadata": {},
   "outputs": [],
   "source": [
    "sbs6 = (\"C>A\", \"C>G\", \"C>T\", \"T>A\", \"T>C\", \"T>G\") # Should make also .SBS6.all\n",
    "\n",
    "sbs96_sigprofiler=\"\"\"A[C>A]A\tA[C>A]C\tA[C>A]G\tA[C>A]T\tA[C>G]A\tA[C>G]C\tA[C>G]G\tA[C>G]T\tA[C>T]A\tA[C>T]C\tA[C>T]G\tA[C>T]T\tA[T>A]A\tA[T>A]C\tA[T>A]G\tA[T>A]T\tA[T>C]A\tA[T>C]C\tA[T>C]G\tA[T>C]T\tA[T>G]A\tA[T>G]C\tA[T>G]G\tA[T>G]T\tC[C>A]A\tC[C>A]C\tC[C>A]G\tC[C>A]T\tC[C>G]A\tC[C>G]C\tC[C>G]G\tC[C>G]T\tC[C>T]A\tC[C>T]C\tC[C>T]G\tC[C>T]T\tC[T>A]A\tC[T>A]C\tC[T>A]G\tC[T>A]T\tC[T>C]A\tC[T>C]C\tC[T>C]G\tC[T>C]T\tC[T>G]A\tC[T>G]C\tC[T>G]G\tC[T>G]T\tG[C>A]A\tG[C>A]C\tG[C>A]G\tG[C>A]T\tG[C>G]A\tG[C>G]C\tG[C>G]G\tG[C>G]T\tG[C>T]A\tG[C>T]C\tG[C>T]G\tG[C>T]T\tG[T>A]A\tG[T>A]C\tG[T>A]G\tG[T>A]T\tG[T>C]A\tG[T>C]C\tG[T>C]G\tG[T>C]T\tG[T>G]A\tG[T>G]C\tG[T>G]G\tG[T>G]T\tT[C>A]A\tT[C>A]C\tT[C>A]G\tT[C>A]T\tT[C>G]A\tT[C>G]C\tT[C>G]G\tT[C>G]T\tT[C>T]A\tT[C>T]C\tT[C>T]G\tT[C>T]T\tT[T>A]A\tT[T>A]C\tT[T>A]G\tT[T>A]T\tT[T>C]A\tT[T>C]C\tT[T>C]G\tT[T>C]T\tT[T>G]A\tT[T>G]C\tT[T>G]G\tT[T>G]T\"\"\"\n",
    "sbs96_sigprofiler = sbs96_sigprofiler.split()\n",
    "\n",
    "sbs96 = dict()\n",
    "for sbs in sbs96_sigprofiler:\n",
    "    sbs96[f'{sbs[0]}{sbs[2]}{sbs[-1]}>{sbs[0]}{sbs[-3]}{sbs[-1]}'] = sbs\n"
   ]
  },
  {
   "cell_type": "markdown",
   "metadata": {},
   "source": [
    "## Passage B"
   ]
  },
  {
   "cell_type": "markdown",
   "metadata": {},
   "source": [
    "### COLO829T Passage B total"
   ]
  },
  {
   "cell_type": "code",
   "execution_count": null,
   "metadata": {},
   "outputs": [],
   "source": [
    "samplename=\"COLO829T_PassageB_DSA\"\n",
    "df = pd.read_csv(\"/mmfs1/gscratch/stergachislab/mhsohny/SMaHT/Improving_SomaticVariantCalling_through_DSA/Fiber-seq/VariantCalls_DeepVariant_1.6.1/Mutational_Spectrum/01.SBS/COLO829T_PassageB_DSA.SBS96\", sep=\"\\t\", header=None).iloc[:, 1:].T\n",
    "df.columns = ['SBS96_pre', 'Count']\n",
    "df['SBS96'] = df['SBS96_pre'].apply(trinuc_context_change)\n",
    "df['SBS96_SigProfiler'] = df['SBS96'].apply(lambda x: sbs96.get(x, None))\n",
    "\n",
    "df['SBS96_SigProfiler'] = pd.Categorical(df['SBS96_SigProfiler'], categories=sbs96_sigprofiler, ordered=True)\n",
    "\"\"\"\n",
    "['T[T>G]T', 'T[T>C]T', 'T[T>A]T', 'G[T>G]T', 'G[T>C]T', ..., 'T[C>G]G', 'T[C>T]G', 'T[C>A]T', 'T[C>G]T', 'T[C>T]T']\n",
    "Length: 96\n",
    "Categories (96, object): ['A[C>A]A' < 'A[C>A]C' < 'A[C>A]G' < 'A[C>A]T' ... 'T[T>G]A' < 'T[T>G]C' < 'T[T>G]G' < 'T[T>G]T']\n",
    "\"\"\"\n",
    "df = df.sort_values(by='SBS96_SigProfiler').reset_index(drop=True)\n",
    "\n",
    "df.rename(columns={'SBS96_SigProfiler': 'MutationType', 'Count': f'{samplename}'}, inplace=True)\n",
    "df[['MutationType', f'{samplename}']].to_csv('/mmfs1/gscratch/stergachislab/mhsohny/SMaHT/Improving_SomaticVariantCalling_through_DSA/Fiber-seq/VariantCalls_DeepVariant_1.6.1/Mutational_Spectrum/01.SBS/COLO829T_PassageB_DSA.SBS96.all', sep='\\t', index=False)"
   ]
  },
  {
   "cell_type": "code",
   "execution_count": null,
   "metadata": {},
   "outputs": [],
   "source": [
    "# Passage B ALL\n",
    "sigPlt.plotSBS(matrix_path=\"/mmfs1/gscratch/stergachislab/mhsohny/SMaHT/Improving_SomaticVariantCalling_through_DSA/Fiber-seq/VariantCalls_DeepVariant_1.6.1/Mutational_Spectrum/01.SBS/COLO829T_PassageB_DSA.SBS96.all\", \n",
    "               output_path=\"/mmfs1/gscratch/stergachislab/mhsohny/SMaHT/Improving_SomaticVariantCalling_through_DSA/Fiber-seq/VariantCalls_DeepVariant_1.6.1/Mutational_Spectrum/01.SBS\", \n",
    "               project=\"COLO829T_PassageB_DSA\", \n",
    "               plot_type=\"96\", \n",
    "               savefig_format=\"pdf\",\n",
    "               percentage=False)\n",
    "\n",
    "sigPlt.plotSBS(matrix_path=\"/mmfs1/gscratch/stergachislab/mhsohny/SMaHT/Improving_SomaticVariantCalling_through_DSA/Fiber-seq/VariantCalls_DeepVariant_1.6.1/Mutational_Spectrum/01.SBS/COLO829T_PassageB_DSA.SBS96.all\", \n",
    "               output_path=\"/mmfs1/gscratch/stergachislab/mhsohny/SMaHT/Improving_SomaticVariantCalling_through_DSA/Fiber-seq/VariantCalls_DeepVariant_1.6.1/Mutational_Spectrum/01.SBS\", \n",
    "               project=\"COLO829T_PassageB_DSA.percentage\", \n",
    "               plot_type=\"96\", \n",
    "               savefig_format=\"pdf\",\n",
    "               percentage=True)"
   ]
  },
  {
   "cell_type": "code",
   "execution_count": null,
   "metadata": {},
   "outputs": [],
   "source": [
    "os.system('mkdir -p /mmfs1/gscratch/stergachislab/mhsohny/SMaHT/Improving_SomaticVariantCalling_through_DSA/Fiber-seq/VariantCalls_DeepVariant_1.6.1/Mutational_Spectrum/01.SBS/TB_ALL') \n",
    "Analyze.cosmic_fit(\n",
    "    \"/mmfs1/gscratch/stergachislab/mhsohny/SMaHT/Improving_SomaticVariantCalling_through_DSA/Fiber-seq/VariantCalls_DeepVariant_1.6.1/Mutational_Spectrum/01.SBS/COLO829T_PassageB_DSA.SBS96.all\", \n",
    "    \"/mmfs1/gscratch/stergachislab/mhsohny/SMaHT/Improving_SomaticVariantCalling_through_DSA/Fiber-seq/VariantCalls_DeepVariant_1.6.1/Mutational_Spectrum/01.SBS/TB_ALL\", \n",
    "    input_type=\"matrix\", \n",
    "    context_type=\"96\", \n",
    "    collapse_to_SBS96=True, \n",
    "    cosmic_version=3.4, \n",
    "    exome=False,\n",
    "    genome_build=\"GRCh38\", \n",
    "    signature_database=None,\n",
    "    exclude_signature_subgroups=None, \n",
    "    export_probabilities=True,\n",
    "    export_probabilities_per_mutation=False, \n",
    "    make_plots=True,\n",
    "    sample_reconstruction_plots=\"pdf\", \n",
    "    verbose=False)"
   ]
  },
  {
   "cell_type": "markdown",
   "metadata": {},
   "source": [
    "### COLO829T Passage B Only"
   ]
  },
  {
   "cell_type": "code",
   "execution_count": null,
   "metadata": {},
   "outputs": [],
   "source": [
    "samplename=\"COLO829T_PassageB_DSA_Bonly\"\n",
    "df = pd.read_csv(\"/mmfs1/gscratch/stergachislab/mhsohny/SMaHT/Improving_SomaticVariantCalling_through_DSA/Fiber-seq/VariantCalls_DeepVariant_1.6.1/Mutational_Spectrum/01.SBS/COLO829T_PassageB_DSA_onlytb.SBS96\", sep=\"\\t\", header=None).iloc[:, 1:].T\n",
    "df.columns = ['SBS96_pre', 'Count']\n",
    "df['SBS96'] = df['SBS96_pre'].apply(trinuc_context_change)\n",
    "df['SBS96_SigProfiler'] = df['SBS96'].apply(lambda x: sbs96.get(x, None))\n",
    "\n",
    "df['SBS96_SigProfiler'] = pd.Categorical(df['SBS96_SigProfiler'], categories=sbs96_sigprofiler, ordered=True)\n",
    "\"\"\"\n",
    "['T[T>G]T', 'T[T>C]T', 'T[T>A]T', 'G[T>G]T', 'G[T>C]T', ..., 'T[C>G]G', 'T[C>T]G', 'T[C>A]T', 'T[C>G]T', 'T[C>T]T']\n",
    "Length: 96\n",
    "Categories (96, object): ['A[C>A]A' < 'A[C>A]C' < 'A[C>A]G' < 'A[C>A]T' ... 'T[T>G]A' < 'T[T>G]C' < 'T[T>G]G' < 'T[T>G]T']\n",
    "\"\"\"\n",
    "df = df.sort_values(by='SBS96_SigProfiler').reset_index(drop=True)\n",
    "\n",
    "df.rename(columns={'SBS96_SigProfiler': 'MutationType', 'Count': f'{samplename}'}, inplace=True)\n",
    "df[['MutationType', f'{samplename}']].to_csv('/mmfs1/gscratch/stergachislab/mhsohny/SMaHT/Improving_SomaticVariantCalling_through_DSA/Fiber-seq/VariantCalls_DeepVariant_1.6.1/Mutational_Spectrum/01.SBS/COLO829T_PassageB_DSA_onlytb.SBS96.all', sep='\\t', index=False)\n"
   ]
  },
  {
   "cell_type": "code",
   "execution_count": null,
   "metadata": {},
   "outputs": [],
   "source": [
    "# Passage B only\n",
    "sigPlt.plotSBS(matrix_path=\"/mmfs1/gscratch/stergachislab/mhsohny/SMaHT/Improving_SomaticVariantCalling_through_DSA/Fiber-seq/VariantCalls_DeepVariant_1.6.1/Mutational_Spectrum/01.SBS/COLO829T_PassageB_DSA_onlytb.SBS96.all\", \n",
    "               output_path=\"/mmfs1/gscratch/stergachislab/mhsohny/SMaHT/Improving_SomaticVariantCalling_through_DSA/Fiber-seq/VariantCalls_DeepVariant_1.6.1/Mutational_Spectrum/01.SBS\", \n",
    "               project=\"COLO829T_PassageB_DSA_onlyB\", \n",
    "               plot_type=\"96\", \n",
    "               savefig_format=\"pdf\",\n",
    "               percentage=False)\n",
    "\n",
    "sigPlt.plotSBS(matrix_path=\"/mmfs1/gscratch/stergachislab/mhsohny/SMaHT/Improving_SomaticVariantCalling_through_DSA/Fiber-seq/VariantCalls_DeepVariant_1.6.1/Mutational_Spectrum/01.SBS/COLO829T_PassageB_DSA_onlytb.SBS96.all\", \n",
    "               output_path=\"/mmfs1/gscratch/stergachislab/mhsohny/SMaHT/Improving_SomaticVariantCalling_through_DSA/Fiber-seq/VariantCalls_DeepVariant_1.6.1/Mutational_Spectrum/01.SBS\", \n",
    "               project=\"COLO829T_PassageB_DSA_onlyB.percentage\", \n",
    "               plot_type=\"96\", \n",
    "               savefig_format=\"pdf\",\n",
    "               percentage=True)"
   ]
  },
  {
   "cell_type": "code",
   "execution_count": null,
   "metadata": {},
   "outputs": [
    {
     "name": "stdout",
     "output_type": "stream",
     "text": [
      "Assigning COSMIC sigs or Signature Database ...... \n",
      "|████████████████████████████████████████| 1/1 [100%] in 1.2s (0.87/s) \n",
      "\n",
      "\n",
      " \n",
      "Your Job Is Successfully Completed! Thank You For Using SigProfilerAssignment.\n",
      " \n"
     ]
    }
   ],
   "source": [
    "os.system('mkdir -p /mmfs1/gscratch/stergachislab/mhsohny/SMaHT/Improving_SomaticVariantCalling_through_DSA/Fiber-seq/VariantCalls_DeepVariant_1.6.1/Mutational_Spectrum/01.SBS/TB_ONLY') \n",
    "Analyze.cosmic_fit(\n",
    "    \"/mmfs1/gscratch/stergachislab/mhsohny/SMaHT/Improving_SomaticVariantCalling_through_DSA/Fiber-seq/VariantCalls_DeepVariant_1.6.1/Mutational_Spectrum/01.SBS/COLO829T_PassageB_DSA_onlytb.SBS96.all\", \n",
    "    \"/mmfs1/gscratch/stergachislab/mhsohny/SMaHT/Improving_SomaticVariantCalling_through_DSA/Fiber-seq/VariantCalls_DeepVariant_1.6.1/Mutational_Spectrum/01.SBS/TB_ONLY\", \n",
    "    input_type=\"matrix\", \n",
    "    context_type=\"96\", \n",
    "    collapse_to_SBS96=True, \n",
    "    cosmic_version=3.4, \n",
    "    exome=False,\n",
    "    genome_build=\"GRCh38\", \n",
    "    signature_database=None,\n",
    "    exclude_signature_subgroups=None, \n",
    "    export_probabilities=True,\n",
    "    export_probabilities_per_mutation=False, \n",
    "    make_plots=True,\n",
    "    sample_reconstruction_plots=\"pdf\", \n",
    "    verbose=False)"
   ]
  },
  {
   "cell_type": "markdown",
   "metadata": {},
   "source": [
    "### COLO829T Passage B for B⋂A"
   ]
  },
  {
   "cell_type": "code",
   "execution_count": null,
   "metadata": {},
   "outputs": [],
   "source": [
    "samplename=\"COLO829T_PassageB_DSA_BintA\"\n",
    "df = pd.read_csv(\"/mmfs1/gscratch/stergachislab/mhsohny/SMaHT/Improving_SomaticVariantCalling_through_DSA/Fiber-seq/VariantCalls_DeepVariant_1.6.1/Mutational_Spectrum/01.SBS/COLO829T_PassageB_DSA.tba.SBS96\", sep=\"\\t\", header=None).iloc[:, 1:].T\n",
    "df.columns = ['SBS96_pre', 'Count']\n",
    "df['SBS96'] = df['SBS96_pre'].apply(trinuc_context_change)\n",
    "df['SBS96_SigProfiler'] = df['SBS96'].apply(lambda x: sbs96.get(x, None))\n",
    "\n",
    "df['SBS96_SigProfiler'] = pd.Categorical(df['SBS96_SigProfiler'], categories=sbs96_sigprofiler, ordered=True)\n",
    "\"\"\"\n",
    "['T[T>G]T', 'T[T>C]T', 'T[T>A]T', 'G[T>G]T', 'G[T>C]T', ..., 'T[C>G]G', 'T[C>T]G', 'T[C>A]T', 'T[C>G]T', 'T[C>T]T']\n",
    "Length: 96\n",
    "Categories (96, object): ['A[C>A]A' < 'A[C>A]C' < 'A[C>A]G' < 'A[C>A]T' ... 'T[T>G]A' < 'T[T>G]C' < 'T[T>G]G' < 'T[T>G]T']\n",
    "\"\"\"\n",
    "df = df.sort_values(by='SBS96_SigProfiler').reset_index(drop=True)\n",
    "\n",
    "df.rename(columns={'SBS96_SigProfiler': 'MutationType', 'Count': f'{samplename}'}, inplace=True)\n",
    "df[['MutationType', f'{samplename}']].to_csv('/mmfs1/gscratch/stergachislab/mhsohny/SMaHT/Improving_SomaticVariantCalling_through_DSA/Fiber-seq/VariantCalls_DeepVariant_1.6.1/Mutational_Spectrum/01.SBS/COLO829T_PassageB_DSA.tba.SBS96.all', sep='\\t', index=False)\n"
   ]
  },
  {
   "cell_type": "code",
   "execution_count": null,
   "metadata": {},
   "outputs": [],
   "source": [
    "# Passage B TBA\n",
    "sigPlt.plotSBS(matrix_path=\"/mmfs1/gscratch/stergachislab/mhsohny/SMaHT/Improving_SomaticVariantCalling_through_DSA/Fiber-seq/VariantCalls_DeepVariant_1.6.1/Mutational_Spectrum/01.SBS/COLO829T_PassageB_DSA.tba.SBS96.all\", \n",
    "               output_path=\"/mmfs1/gscratch/stergachislab/mhsohny/SMaHT/Improving_SomaticVariantCalling_through_DSA/Fiber-seq/VariantCalls_DeepVariant_1.6.1/Mutational_Spectrum/01.SBS\", \n",
    "               project=\"COLO829T_PassageB_DSA_TBA\", \n",
    "               plot_type=\"96\", \n",
    "               savefig_format=\"pdf\",\n",
    "               percentage=False)\n",
    "\n",
    "sigPlt.plotSBS(matrix_path=\"/mmfs1/gscratch/stergachislab/mhsohny/SMaHT/Improving_SomaticVariantCalling_through_DSA/Fiber-seq/VariantCalls_DeepVariant_1.6.1/Mutational_Spectrum/01.SBS/COLO829T_PassageB_DSA.tba.SBS96.all\", \n",
    "               output_path=\"/mmfs1/gscratch/stergachislab/mhsohny/SMaHT/Improving_SomaticVariantCalling_through_DSA/Fiber-seq/VariantCalls_DeepVariant_1.6.1/Mutational_Spectrum/01.SBS\", \n",
    "               project=\"COLO829T_PassageB_DSA_TBA.percentage\", \n",
    "               plot_type=\"96\", \n",
    "               savefig_format=\"pdf\",\n",
    "               percentage=True)"
   ]
  },
  {
   "cell_type": "code",
   "execution_count": null,
   "metadata": {},
   "outputs": [
    {
     "name": "stdout",
     "output_type": "stream",
     "text": [
      "Assigning COSMIC sigs or Signature Database ...... \n",
      "|████████████████████████████████████████| 1/1 [100%] in 1.0s (1.01/s) \n",
      "\n",
      "\n",
      " \n",
      "Your Job Is Successfully Completed! Thank You For Using SigProfilerAssignment.\n",
      " \n"
     ]
    }
   ],
   "source": [
    "os.system('mkdir -p /mmfs1/gscratch/stergachislab/mhsohny/SMaHT/Improving_SomaticVariantCalling_through_DSA/Fiber-seq/VariantCalls_DeepVariant_1.6.1/Mutational_Spectrum/01.SBS/TB_TBA') \n",
    "Analyze.cosmic_fit(\n",
    "    \"/mmfs1/gscratch/stergachislab/mhsohny/SMaHT/Improving_SomaticVariantCalling_through_DSA/Fiber-seq/VariantCalls_DeepVariant_1.6.1/Mutational_Spectrum/01.SBS/COLO829T_PassageB_DSA.tba.SBS96.all\", \n",
    "    \"/mmfs1/gscratch/stergachislab/mhsohny/SMaHT/Improving_SomaticVariantCalling_through_DSA/Fiber-seq/VariantCalls_DeepVariant_1.6.1/Mutational_Spectrum/01.SBS/TB_TBA\", \n",
    "    input_type=\"matrix\", \n",
    "    context_type=\"96\", \n",
    "    collapse_to_SBS96=True, \n",
    "    cosmic_version=3.4, \n",
    "    exome=False,\n",
    "    genome_build=\"GRCh38\", \n",
    "    signature_database=None,\n",
    "    exclude_signature_subgroups=None, \n",
    "    export_probabilities=True,\n",
    "    export_probabilities_per_mutation=False, \n",
    "    make_plots=True,\n",
    "    sample_reconstruction_plots=\"pdf\", \n",
    "    verbose=False)"
   ]
  },
  {
   "cell_type": "markdown",
   "metadata": {},
   "source": [
    "## Passage A"
   ]
  },
  {
   "cell_type": "code",
   "execution_count": null,
   "metadata": {},
   "outputs": [],
   "source": [
    "samplename=\"COLO829T_PassageA_DSA\"\n",
    "df = pd.read_csv(\"/mmfs1/gscratch/stergachislab/mhsohny/SMaHT/Improving_SomaticVariantCalling_through_DSA/Fiber-seq/VariantCalls_DeepVariant_1.6.1/Mutational_Spectrum/01.SBS/COLO829T_PassageA_DSA.SBS96\", sep=\"\\t\", header=None).iloc[:, 1:].T\n",
    "df.columns = ['SBS96_pre', 'Count']\n",
    "df['SBS96'] = df['SBS96_pre'].apply(trinuc_context_change)\n",
    "df['SBS96_SigProfiler'] = df['SBS96'].apply(lambda x: sbs96.get(x, None))\n",
    "\n",
    "df['SBS96_SigProfiler'] = pd.Categorical(df['SBS96_SigProfiler'], categories=sbs96_sigprofiler, ordered=True)\n",
    "\"\"\"\n",
    "['T[T>G]T', 'T[T>C]T', 'T[T>A]T', 'G[T>G]T', 'G[T>C]T', ..., 'T[C>G]G', 'T[C>T]G', 'T[C>A]T', 'T[C>G]T', 'T[C>T]T']\n",
    "Length: 96\n",
    "Categories (96, object): ['A[C>A]A' < 'A[C>A]C' < 'A[C>A]G' < 'A[C>A]T' ... 'T[T>G]A' < 'T[T>G]C' < 'T[T>G]G' < 'T[T>G]T']\n",
    "\"\"\"\n",
    "df = df.sort_values(by='SBS96_SigProfiler').reset_index(drop=True)\n",
    "\n",
    "df.rename(columns={'SBS96_SigProfiler': 'MutationType', 'Count': f'{samplename}'}, inplace=True)\n",
    "df[['MutationType', f'{samplename}']].to_csv('/mmfs1/gscratch/stergachislab/mhsohny/SMaHT/Improving_SomaticVariantCalling_through_DSA/Fiber-seq/VariantCalls_DeepVariant_1.6.1/Mutational_Spectrum/01.SBS/COLO829T_PassageA_DSA.SBS96.all', sep='\\t', index=False)"
   ]
  },
  {
   "cell_type": "code",
   "execution_count": null,
   "metadata": {},
   "outputs": [],
   "source": [
    "# Passage A ALL\n",
    "sigPlt.plotSBS(matrix_path=\"/mmfs1/gscratch/stergachislab/mhsohny/SMaHT/Improving_SomaticVariantCalling_through_DSA/Fiber-seq/VariantCalls_DeepVariant_1.6.1/Mutational_Spectrum/01.SBS/COLO829T_PassageA_DSA.SBS96.all\", \n",
    "               output_path=\"/mmfs1/gscratch/stergachislab/mhsohny/SMaHT/Improving_SomaticVariantCalling_through_DSA/Fiber-seq/VariantCalls_DeepVariant_1.6.1/Mutational_Spectrum/01.SBS\", \n",
    "               project=\"COLO829T_PassageA_DSA\", \n",
    "               plot_type=\"96\", \n",
    "               savefig_format=\"pdf\",\n",
    "               percentage=False)\n",
    "\n",
    "sigPlt.plotSBS(matrix_path=\"/mmfs1/gscratch/stergachislab/mhsohny/SMaHT/Improving_SomaticVariantCalling_through_DSA/Fiber-seq/VariantCalls_DeepVariant_1.6.1/Mutational_Spectrum/01.SBS/COLO829T_PassageA_DSA.SBS96.all\", \n",
    "               output_path=\"/mmfs1/gscratch/stergachislab/mhsohny/SMaHT/Improving_SomaticVariantCalling_through_DSA/Fiber-seq/VariantCalls_DeepVariant_1.6.1/Mutational_Spectrum/01.SBS\", \n",
    "               project=\"COLO829T_PassageA_DSA.percentage\", \n",
    "               plot_type=\"96\", \n",
    "               savefig_format=\"pdf\",\n",
    "               percentage=True)"
   ]
  },
  {
   "cell_type": "code",
   "execution_count": null,
   "metadata": {},
   "outputs": [
    {
     "name": "stdout",
     "output_type": "stream",
     "text": [
      "Assigning COSMIC sigs or Signature Database ...... \n",
      "|████████████████████████████████████████| 1/1 [100%] in 1.1s (0.93/s) \n",
      "\n",
      "\n",
      " \n",
      "Your Job Is Successfully Completed! Thank You For Using SigProfilerAssignment.\n",
      " \n"
     ]
    }
   ],
   "source": [
    "os.system('mkdir -p /mmfs1/gscratch/stergachislab/mhsohny/SMaHT/Improving_SomaticVariantCalling_through_DSA/Fiber-seq/VariantCalls_DeepVariant_1.6.1/Mutational_Spectrum/01.SBS/TA_ALL') \n",
    "Analyze.cosmic_fit(\n",
    "    \"/mmfs1/gscratch/stergachislab/mhsohny/SMaHT/Improving_SomaticVariantCalling_through_DSA/Fiber-seq/VariantCalls_DeepVariant_1.6.1/Mutational_Spectrum/01.SBS/COLO829T_PassageA_DSA.SBS96.all\", \n",
    "    \"/mmfs1/gscratch/stergachislab/mhsohny/SMaHT/Improving_SomaticVariantCalling_through_DSA/Fiber-seq/VariantCalls_DeepVariant_1.6.1/Mutational_Spectrum/01.SBS/TA_ALL\", \n",
    "    input_type=\"matrix\", \n",
    "    context_type=\"96\", \n",
    "    collapse_to_SBS96=True, \n",
    "    cosmic_version=3.4, \n",
    "    exome=False,\n",
    "    genome_build=\"GRCh38\", \n",
    "    signature_database=None,\n",
    "    exclude_signature_subgroups=None, \n",
    "    export_probabilities=True,\n",
    "    export_probabilities_per_mutation=False, \n",
    "    make_plots=True,\n",
    "    sample_reconstruction_plots=\"pdf\", \n",
    "    verbose=False)"
   ]
  },
  {
   "cell_type": "markdown",
   "metadata": {},
   "source": [
    "### COLO829T Passage A Only"
   ]
  },
  {
   "cell_type": "code",
   "execution_count": null,
   "metadata": {},
   "outputs": [],
   "source": [
    "samplename=\"COLO829T_PassageB_DSA_Aonly\"\n",
    "df = pd.read_csv(\"/mmfs1/gscratch/stergachislab/mhsohny/SMaHT/Improving_SomaticVariantCalling_through_DSA/Fiber-seq/VariantCalls_DeepVariant_1.6.1/Mutational_Spectrum/01.SBS/COLO829T_PassageA_DSA_onlyta.SBS96\", sep=\"\\t\", header=None).iloc[:, 1:].T\n",
    "df.columns = ['SBS96_pre', 'Count']\n",
    "df['SBS96'] = df['SBS96_pre'].apply(trinuc_context_change)\n",
    "df['SBS96_SigProfiler'] = df['SBS96'].apply(lambda x: sbs96.get(x, None))\n",
    "\n",
    "df['SBS96_SigProfiler'] = pd.Categorical(df['SBS96_SigProfiler'], categories=sbs96_sigprofiler, ordered=True)\n",
    "\"\"\"\n",
    "['T[T>G]T', 'T[T>C]T', 'T[T>A]T', 'G[T>G]T', 'G[T>C]T', ..., 'T[C>G]G', 'T[C>T]G', 'T[C>A]T', 'T[C>G]T', 'T[C>T]T']\n",
    "Length: 96\n",
    "Categories (96, object): ['A[C>A]A' < 'A[C>A]C' < 'A[C>A]G' < 'A[C>A]T' ... 'T[T>G]A' < 'T[T>G]C' < 'T[T>G]G' < 'T[T>G]T']\n",
    "\"\"\"\n",
    "df = df.sort_values(by='SBS96_SigProfiler').reset_index(drop=True)\n",
    "\n",
    "df.rename(columns={'SBS96_SigProfiler': 'MutationType', 'Count': f'{samplename}'}, inplace=True)\n",
    "df[['MutationType', f'{samplename}']].to_csv('/mmfs1/gscratch/stergachislab/mhsohny/SMaHT/Improving_SomaticVariantCalling_through_DSA/Fiber-seq/VariantCalls_DeepVariant_1.6.1/Mutational_Spectrum/01.SBS/COLO829T_PassageA_DSA_onlyta.SBS96.all', sep='\\t', index=False)"
   ]
  },
  {
   "cell_type": "code",
   "execution_count": null,
   "metadata": {},
   "outputs": [],
   "source": [
    "# Passage A only\n",
    "sigPlt.plotSBS(matrix_path=\"/mmfs1/gscratch/stergachislab/mhsohny/SMaHT/Improving_SomaticVariantCalling_through_DSA/Fiber-seq/VariantCalls_DeepVariant_1.6.1/Mutational_Spectrum/01.SBS/COLO829T_PassageA_DSA_onlyta.SBS96.all\", \n",
    "               output_path=\"/mmfs1/gscratch/stergachislab/mhsohny/SMaHT/Improving_SomaticVariantCalling_through_DSA/Fiber-seq/VariantCalls_DeepVariant_1.6.1/Mutational_Spectrum/01.SBS\", \n",
    "               project=\"COLO829T_PassageA_DSA_onlyA\", \n",
    "               plot_type=\"96\", \n",
    "               savefig_format=\"pdf\",\n",
    "               percentage=False)\n",
    "\n",
    "sigPlt.plotSBS(matrix_path=\"/mmfs1/gscratch/stergachislab/mhsohny/SMaHT/Improving_SomaticVariantCalling_through_DSA/Fiber-seq/VariantCalls_DeepVariant_1.6.1/Mutational_Spectrum/01.SBS/COLO829T_PassageA_DSA_onlyta.SBS96.all\", \n",
    "               output_path=\"/mmfs1/gscratch/stergachislab/mhsohny/SMaHT/Improving_SomaticVariantCalling_through_DSA/Fiber-seq/VariantCalls_DeepVariant_1.6.1/Mutational_Spectrum/01.SBS\", \n",
    "               project=\"COLO829T_PassageA_DSA_onlyA.percentage\", \n",
    "               plot_type=\"96\", \n",
    "               savefig_format=\"pdf\",\n",
    "               percentage=True)"
   ]
  },
  {
   "cell_type": "code",
   "execution_count": null,
   "metadata": {},
   "outputs": [
    {
     "name": "stdout",
     "output_type": "stream",
     "text": [
      "Assigning COSMIC sigs or Signature Database ...... \n",
      "|████████████████████████████████████████| 1/1 [100%] in 1.4s (0.73/s) \n",
      "\n",
      "\n",
      " \n",
      "Your Job Is Successfully Completed! Thank You For Using SigProfilerAssignment.\n",
      " \n"
     ]
    }
   ],
   "source": [
    "os.system('mkdir -p /mmfs1/gscratch/stergachislab/mhsohny/SMaHT/Improving_SomaticVariantCalling_through_DSA/Fiber-seq/VariantCalls_DeepVariant_1.6.1/Mutational_Spectrum/01.SBS/TA_ONLY') \n",
    "Analyze.cosmic_fit(\n",
    "    \"/mmfs1/gscratch/stergachislab/mhsohny/SMaHT/Improving_SomaticVariantCalling_through_DSA/Fiber-seq/VariantCalls_DeepVariant_1.6.1/Mutational_Spectrum/01.SBS/COLO829T_PassageA_DSA_onlyta.SBS96.all\", \n",
    "    \"/mmfs1/gscratch/stergachislab/mhsohny/SMaHT/Improving_SomaticVariantCalling_through_DSA/Fiber-seq/VariantCalls_DeepVariant_1.6.1/Mutational_Spectrum/01.SBS/TA_ONLY\", \n",
    "    input_type=\"matrix\", \n",
    "    context_type=\"96\", \n",
    "    collapse_to_SBS96=True, \n",
    "    cosmic_version=3.4, \n",
    "    exome=False,\n",
    "    genome_build=\"GRCh38\", \n",
    "    signature_database=None,\n",
    "    exclude_signature_subgroups=None, \n",
    "    export_probabilities=True,\n",
    "    export_probabilities_per_mutation=False, \n",
    "    make_plots=True,\n",
    "    sample_reconstruction_plots=\"pdf\", \n",
    "    verbose=False)"
   ]
  },
  {
   "cell_type": "markdown",
   "metadata": {},
   "source": [
    "### COLO829T Passage A for B⋂A"
   ]
  },
  {
   "cell_type": "code",
   "execution_count": null,
   "metadata": {},
   "outputs": [],
   "source": [
    "samplename=\"COLO829T_PassageA_DSA_BintA\"\n",
    "df = pd.read_csv(\"/mmfs1/gscratch/stergachislab/mhsohny/SMaHT/Improving_SomaticVariantCalling_through_DSA/Fiber-seq/VariantCalls_DeepVariant_1.6.1/Mutational_Spectrum/01.SBS/COLO829T_PassageA_DSA.tba.SBS96\", sep=\"\\t\", header=None).iloc[:, 1:].T\n",
    "df.columns = ['SBS96_pre', 'Count']\n",
    "df['SBS96'] = df['SBS96_pre'].apply(trinuc_context_change)\n",
    "df['SBS96_SigProfiler'] = df['SBS96'].apply(lambda x: sbs96.get(x, None))\n",
    "\n",
    "df['SBS96_SigProfiler'] = pd.Categorical(df['SBS96_SigProfiler'], categories=sbs96_sigprofiler, ordered=True)\n",
    "\"\"\"\n",
    "['T[T>G]T', 'T[T>C]T', 'T[T>A]T', 'G[T>G]T', 'G[T>C]T', ..., 'T[C>G]G', 'T[C>T]G', 'T[C>A]T', 'T[C>G]T', 'T[C>T]T']\n",
    "Length: 96\n",
    "Categories (96, object): ['A[C>A]A' < 'A[C>A]C' < 'A[C>A]G' < 'A[C>A]T' ... 'T[T>G]A' < 'T[T>G]C' < 'T[T>G]G' < 'T[T>G]T']\n",
    "\"\"\"\n",
    "df = df.sort_values(by='SBS96_SigProfiler').reset_index(drop=True)\n",
    "\n",
    "df.rename(columns={'SBS96_SigProfiler': 'MutationType', 'Count': f'{samplename}'}, inplace=True)\n",
    "df[['MutationType', f'{samplename}']].to_csv('/mmfs1/gscratch/stergachislab/mhsohny/SMaHT/Improving_SomaticVariantCalling_through_DSA/Fiber-seq/VariantCalls_DeepVariant_1.6.1/Mutational_Spectrum/01.SBS/COLO829T_PassageA_DSA.tba.SBS96.all', sep='\\t', index=False)\n"
   ]
  },
  {
   "cell_type": "code",
   "execution_count": null,
   "metadata": {},
   "outputs": [],
   "source": [
    "# Passage A TBA\n",
    "sigPlt.plotSBS(matrix_path=\"/mmfs1/gscratch/stergachislab/mhsohny/SMaHT/Improving_SomaticVariantCalling_through_DSA/Fiber-seq/VariantCalls_DeepVariant_1.6.1/Mutational_Spectrum/01.SBS/COLO829T_PassageA_DSA.tba.SBS96.all\", \n",
    "               output_path=\"/mmfs1/gscratch/stergachislab/mhsohny/SMaHT/Improving_SomaticVariantCalling_through_DSA/Fiber-seq/VariantCalls_DeepVariant_1.6.1/Mutational_Spectrum/01.SBS\", \n",
    "               project=\"COLO829T_PassageA_DSA_TBA\", \n",
    "               plot_type=\"96\", \n",
    "               savefig_format=\"pdf\",\n",
    "               percentage=False)\n",
    "\n",
    "sigPlt.plotSBS(matrix_path=\"/mmfs1/gscratch/stergachislab/mhsohny/SMaHT/Improving_SomaticVariantCalling_through_DSA/Fiber-seq/VariantCalls_DeepVariant_1.6.1/Mutational_Spectrum/01.SBS/COLO829T_PassageA_DSA.tba.SBS96.all\", \n",
    "               output_path=\"/mmfs1/gscratch/stergachislab/mhsohny/SMaHT/Improving_SomaticVariantCalling_through_DSA/Fiber-seq/VariantCalls_DeepVariant_1.6.1/Mutational_Spectrum/01.SBS\", \n",
    "               project=\"COLO829T_PassageA_DSA_TBA.percentage\", \n",
    "               plot_type=\"96\", \n",
    "               savefig_format=\"pdf\",\n",
    "               percentage=True)"
   ]
  },
  {
   "cell_type": "code",
   "execution_count": null,
   "metadata": {},
   "outputs": [
    {
     "name": "stdout",
     "output_type": "stream",
     "text": [
      "Assigning COSMIC sigs or Signature Database ...... \n",
      "|████████████████████████████████████████| 1/1 [100%] in 1.0s (0.98/s) \n",
      "\n",
      "\n",
      " \n",
      "Your Job Is Successfully Completed! Thank You For Using SigProfilerAssignment.\n",
      " \n"
     ]
    }
   ],
   "source": [
    "os.system('mkdir -p /mmfs1/gscratch/stergachislab/mhsohny/SMaHT/Improving_SomaticVariantCalling_through_DSA/Fiber-seq/VariantCalls_DeepVariant_1.6.1/Mutational_Spectrum/01.SBS/TA_TBA') \n",
    "Analyze.cosmic_fit(\n",
    "    \"/mmfs1/gscratch/stergachislab/mhsohny/SMaHT/Improving_SomaticVariantCalling_through_DSA/Fiber-seq/VariantCalls_DeepVariant_1.6.1/Mutational_Spectrum/01.SBS/COLO829T_PassageA_DSA.tba.SBS96.all\", \n",
    "    \"/mmfs1/gscratch/stergachislab/mhsohny/SMaHT/Improving_SomaticVariantCalling_through_DSA/Fiber-seq/VariantCalls_DeepVariant_1.6.1/Mutational_Spectrum/01.SBS/TA_TBA\", \n",
    "    input_type=\"matrix\", \n",
    "    context_type=\"96\", \n",
    "    collapse_to_SBS96=True, \n",
    "    cosmic_version=3.4, \n",
    "    exome=False,\n",
    "    genome_build=\"GRCh38\", \n",
    "    signature_database=None,\n",
    "    exclude_signature_subgroups=None, \n",
    "    export_probabilities=True,\n",
    "    export_probabilities_per_mutation=False, \n",
    "    make_plots=True,\n",
    "    sample_reconstruction_plots=\"pdf\", \n",
    "    verbose=False)"
   ]
  },
  {
   "cell_type": "markdown",
   "metadata": {},
   "source": [
    "# 2. Double Base Substitution (DBS)"
   ]
  },
  {
   "cell_type": "code",
   "execution_count": null,
   "metadata": {},
   "outputs": [],
   "source": []
  }
 ],
 "metadata": {
  "kernelspec": {
   "display_name": "sigprofiler",
   "language": "python",
   "name": "python3"
  },
  "language_info": {
   "codemirror_mode": {
    "name": "ipython",
    "version": 3
   },
   "file_extension": ".py",
   "mimetype": "text/x-python",
   "name": "python",
   "nbconvert_exporter": "python",
   "pygments_lexer": "ipython3",
   "version": "3.11.10"
  }
 },
 "nbformat": 4,
 "nbformat_minor": 2
}
